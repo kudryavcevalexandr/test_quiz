{
 "cells": [
  {
   "cell_type": "code",
   "execution_count": 25,
   "id": "08af966e",
   "metadata": {},
   "outputs": [
    {
     "name": "stdout",
     "output_type": "stream",
     "text": [
      "Найдено 3 вопросов.\n",
      "Удаляем существующие вопросы...\n",
      "Все существующие вопросы удалены.\n",
      "Вопрос 'What is the capital of France?' создан с правильным ответом и баллами.\n",
      "Вопрос 'What is 2 + 2?' создан с правильным ответом и баллами.\n",
      "Вопрос 'What color do you get when you mix blue and yellow?' создан с правильным ответом и баллами.\n",
      "Форма успешно обновлена и вопросы записаны в таблицу answers!\n"
     ]
    }
   ],
   "source": [
    "import json\n",
    "\n",
    "def process_file(file_path):\n",
    "    pairs = []\n",
    "    with open(file_path, 'r', encoding='utf-8') as f:\n",
    "        for line in f:\n",
    "            line = line.strip()\n",
    "            # Пропускаем пустые строки\n",
    "            if not line:\n",
    "                continue\n",
    "            # Разделяем строку по разделителю \"!–\"\n",
    "            if \"!–\" in line:\n",
    "                question_part, answer_part = line.split(\"!–\", 1)\n",
    "                question = question_part.strip()\n",
    "                # Удаляем точку в конце ответа, если она есть\n",
    "                answer = answer_part.strip().rstrip('.')\n",
    "                pairs.append((question, answer))\n",
    "            else:\n",
    "                print(\"Строка не соответствует формату и будет пропущена:\", line)\n",
    "    return pairs\n",
    "\n",
    "def main():\n",
    "    file_path = \"input.txt\"  # Замените на путь к вашему входному файлу\n",
    "    pairs = process_file(file_path)\n",
    "    \n",
    "    # Собираем все ответы для формирования списка вариантов\n",
    "    options = [answer for _, answer in pairs]\n",
    "    \n",
    "    # Формируем список объектов для JSON\n",
    "    data = []\n",
    "    for question, answer in pairs:\n",
    "        data.append({\n",
    "            \"question\": question,\n",
    "            \"options\": options,\n",
    "            \"answer\": answer\n",
    "        })\n",
    "    \n",
    "    # Преобразуем в JSON с отступами для удобочитаемости\n",
    "    json_output = json.dumps(data, ensure_ascii=False, indent=2)\n",
    "    \n",
    "    # Записываем результат в файл output.json\n",
    "    with open(\"output.json\", \"w\", encoding=\"utf-8\") as outfile:\n",
    "        outfile.write(json_output)\n",
    "    \n",
    "    print(\"JSON успешно записан в файл output.json\")\n",
    "\n",
    "if __name__ == '__main__':\n",
    "    main()\n"
   ]
  },
  {
   "cell_type": "code",
   "execution_count": null,
   "id": "42bef861",
   "metadata": {},
   "outputs": [],
   "source": []
  }
 ],
 "metadata": {
  "kernelspec": {
   "display_name": "Python 3 (ipykernel)",
   "language": "python",
   "name": "python3"
  },
  "language_info": {
   "codemirror_mode": {
    "name": "ipython",
    "version": 3
   },
   "file_extension": ".py",
   "mimetype": "text/x-python",
   "name": "python",
   "nbconvert_exporter": "python",
   "pygments_lexer": "ipython3",
   "version": "3.10.12"
  }
 },
 "nbformat": 4,
 "nbformat_minor": 5
}
